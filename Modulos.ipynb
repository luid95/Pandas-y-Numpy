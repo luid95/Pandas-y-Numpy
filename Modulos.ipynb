{
 "cells": [
  {
   "cell_type": "markdown",
   "metadata": {},
   "source": [
    "# Modulo\n",
    "### Udemy"
   ]
  },
  {
   "cell_type": "code",
   "execution_count": 2,
   "metadata": {},
   "outputs": [
    {
     "name": "stdout",
     "output_type": "stream",
     "text": [
      "[1, 1, 2, 3, 5, 8, 13, 21, 34, 55, 89, 144, 233, 377, 610, 987]\n"
     ]
    }
   ],
   "source": [
    "# Funcion lanzamiento de dado\n",
    "import calculo as cnumerico\n",
    "\n",
    "print(cnumerico.fib_list(987))"
   ]
  },
  {
   "cell_type": "code",
   "execution_count": 13,
   "metadata": {},
   "outputs": [
    {
     "name": "stdout",
     "output_type": "stream",
     "text": [
      "10\n",
      "0\n",
      "1.0\n",
      "0\n"
     ]
    }
   ],
   "source": [
    "print(cnumerico.calcular('suma', 5,5))\n",
    "print(cnumerico.calcular('resta', 5,5))\n",
    "print(cnumerico.calcular('division', 5,5))\n",
    "print(cnumerico.calcular('multi', 5, 10))"
   ]
  },
  {
   "cell_type": "code",
   "execution_count": 14,
   "metadata": {},
   "outputs": [
    {
     "name": "stdout",
     "output_type": "stream",
     "text": [
      "[15, 5, 40, 100, 100, 95, 0, 0, 35, 30, 85, 20, 65, 80, 80, 60, 70]\n"
     ]
    }
   ],
   "source": [
    "import random as aleatorio\n",
    "lista = []\n",
    "for i in range(17):\n",
    "    lista.append(aleatorio.randrange(0, 101, 5)) #numeros del 0-100 multiplos de 5\n",
    "print(lista)"
   ]
  },
  {
   "cell_type": "code",
   "execution_count": 15,
   "metadata": {},
   "outputs": [
    {
     "name": "stdout",
     "output_type": "stream",
     "text": [
      "3.141592653589793\n",
      "100.0\n"
     ]
    }
   ],
   "source": [
    "import math\n",
    "\n",
    "print(math.pi) # numero pi\n",
    "print(math.sqrt(10000)) # La raiz cuadrada"
   ]
  },
  {
   "cell_type": "code",
   "execution_count": 19,
   "metadata": {},
   "outputs": [
    {
     "name": "stdout",
     "output_type": "stream",
     "text": [
      "Segundos desde Wed Dec 31 18:00:00 1969  1561125867.3774672\n",
      "Hora en el segundo  0:  Wed Dec 31 18:00:00 1969\n",
      "Hora local:  Fri Jun 21 09:04:27 2019\n"
     ]
    }
   ],
   "source": [
    "import time\n",
    "\n",
    "seconds = time.time()\n",
    "print(\"Segundos desde Wed Dec 31 18:00:00 1969 \", seconds)\n",
    "local_time =time.ctime(0)\n",
    "print(\"Hora en el segundo  0: \", local_time)\n",
    "local_time = time.ctime(seconds)\n",
    "print(\"Hora local: \", local_time)"
   ]
  },
  {
   "cell_type": "code",
   "execution_count": null,
   "metadata": {},
   "outputs": [],
   "source": []
  }
 ],
 "metadata": {
  "kernelspec": {
   "display_name": "Python 3",
   "language": "python",
   "name": "python3"
  },
  "language_info": {
   "codemirror_mode": {
    "name": "ipython",
    "version": 3
   },
   "file_extension": ".py",
   "mimetype": "text/x-python",
   "name": "python",
   "nbconvert_exporter": "python",
   "pygments_lexer": "ipython3",
   "version": "3.7.1"
  }
 },
 "nbformat": 4,
 "nbformat_minor": 2
}
