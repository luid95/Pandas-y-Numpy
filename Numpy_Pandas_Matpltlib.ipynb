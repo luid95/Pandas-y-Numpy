{
 "cells": [
  {
   "cell_type": "markdown",
   "metadata": {},
   "source": [
    "* Toma de decision usando la tecnología disponible"
   ]
  },
  {
   "cell_type": "markdown",
   "metadata": {},
   "source": [
    "# Numpy"
   ]
  },
  {
   "cell_type": "code",
   "execution_count": 2,
   "metadata": {},
   "outputs": [
    {
     "name": "stdout",
     "output_type": "stream",
     "text": [
      "pulgadas:  [ 71.45  47.43  91.24  32.09 100.23  98.55]\n",
      "metros:  [1.81483  1.204722 2.317496 0.815086 2.545842 2.50317 ]\n"
     ]
    }
   ],
   "source": [
    "#numpy\n",
    "#Crear matrices\n",
    "distancia_pulgadas = [71.45, 47.43, 91.24, 32.09, 100.23, 98.55]\n",
    "\n",
    "import numpy as np\n",
    "\n",
    "#Crear una matriz usando numpy / usando la funcion array()\n",
    "np_distancia_pulgadas = np.array(distancia_pulgadas)\n",
    "\n",
    "#Imprimir\n",
    "print(\"pulgadas: \",np_distancia_pulgadas)\n",
    "\n",
    "#Convertir las distancias a metros utilizando operadores algebraicos\n",
    "np_distancia_metros = np_distancia_pulgadas * 0.0254\n",
    "\n",
    "#imprimir\n",
    "print(\"metros: \", np_distancia_metros)"
   ]
  },
  {
   "cell_type": "code",
   "execution_count": 3,
   "metadata": {},
   "outputs": [
    {
     "name": "stdout",
     "output_type": "stream",
     "text": [
      "[0. 0. 0. 0.]\n"
     ]
    }
   ],
   "source": [
    "#Hacer una matriz de 0 / usando la funcion Zeros()\n",
    "matriz_de_ceros = np.zeros(4)\n",
    "print(matriz_de_ceros)"
   ]
  },
  {
   "cell_type": "code",
   "execution_count": 4,
   "metadata": {},
   "outputs": [
    {
     "name": "stdout",
     "output_type": "stream",
     "text": [
      "[1. 1. 1. 1.]\n"
     ]
    }
   ],
   "source": [
    "#Hacer una matriz de 1 / usando la funcion Ones()\n",
    "matriz_de_unos = np.ones(4)\n",
    "print(matriz_de_unos)"
   ]
  },
  {
   "cell_type": "code",
   "execution_count": 5,
   "metadata": {},
   "outputs": [
    {
     "name": "stdout",
     "output_type": "stream",
     "text": [
      "[ 2  4  6  8 10 12 14 16 18 20]\n"
     ]
    }
   ],
   "source": [
    "#Generar array de 10 elementos consecutivos de 2 en 2 desde 2-20\n",
    "matirz = np.arange(2,20+1,2)\n",
    "print(matirz)"
   ]
  },
  {
   "cell_type": "code",
   "execution_count": 8,
   "metadata": {},
   "outputs": [
    {
     "name": "stdout",
     "output_type": "stream",
     "text": [
      "[[1 2 3]\n",
      " [7 8 9]\n",
      " [6 5 4]]\n"
     ]
    }
   ],
   "source": [
    "#Una matriz creada a partir de una tupla\n",
    "lista1=[1,2,3]\n",
    "lista2=[7,8,9]\n",
    "lista3=[6,5,4]\n",
    "tupla = (lista1, lista2, lista3)\n",
    "matriz_ = np.array(tupla)\n",
    "print(matriz_)"
   ]
  },
  {
   "cell_type": "code",
   "execution_count": 10,
   "metadata": {},
   "outputs": [
    {
     "data": {
      "text/plain": [
       "(3, 3)"
      ]
     },
     "execution_count": 10,
     "metadata": {},
     "output_type": "execute_result"
    }
   ],
   "source": [
    "#tipo de arreglo\n",
    "matriz_.shape"
   ]
  },
  {
   "cell_type": "code",
   "execution_count": 11,
   "metadata": {},
   "outputs": [
    {
     "data": {
      "text/plain": [
       "dtype('int64')"
      ]
     },
     "execution_count": 11,
     "metadata": {},
     "output_type": "execute_result"
    }
   ],
   "source": [
    "#tipo de datos\n",
    "matriz_.dtype"
   ]
  },
  {
   "cell_type": "code",
   "execution_count": 12,
   "metadata": {},
   "outputs": [
    {
     "name": "stdout",
     "output_type": "stream",
     "text": [
      "[[ 2  4  6]\n",
      " [14 16 18]\n",
      " [12 10  8]]\n"
     ]
    }
   ],
   "source": [
    "#Operacion\n",
    "operacion = matriz_*2\n",
    "print(operacion)"
   ]
  },
  {
   "cell_type": "code",
   "execution_count": 15,
   "metadata": {},
   "outputs": [
    {
     "name": "stdout",
     "output_type": "stream",
     "text": [
      "Matriz original \n",
      " [[1 2 3]\n",
      " [7 8 9]\n",
      " [6 5 4]]\n",
      "Promedio  5.0\n",
      "[[-4. -3. -2.]\n",
      " [ 2.  3.  4.]\n",
      " [ 1.  0. -1.]]\n"
     ]
    }
   ],
   "source": [
    "#Restar el promedio\n",
    "print(\"Matriz original \\n\",matriz_)\n",
    "print(\"Promedio \", matriz_.mean())\n",
    "operación = matriz_ - matriz_.mean()\n",
    "print(operación)"
   ]
  },
  {
   "cell_type": "code",
   "execution_count": 16,
   "metadata": {},
   "outputs": [
    {
     "name": "stdout",
     "output_type": "stream",
     "text": [
      "[[1 2 3]\n",
      " [7 8 9]\n",
      " [6 5 4]]\n",
      "[[0 0 0]\n",
      " [7 8 9]\n",
      " [6 0 0]]\n"
     ]
    }
   ],
   "source": [
    "#Cambiar datos dentro de un  array\n",
    "print(matriz_)\n",
    "copia_matriz = matriz_.copy()\n",
    "\n",
    "\n",
    "copia_matriz[copia_matriz<=5]=0\n",
    "print(copia_matriz)"
   ]
  },
  {
   "cell_type": "code",
   "execution_count": 17,
   "metadata": {},
   "outputs": [
    {
     "name": "stdout",
     "output_type": "stream",
     "text": [
      "[[1 2 3]\n",
      " [7 8 9]\n",
      " [6 5 4]]\n",
      "[[0 0 0]\n",
      " [7 8 9]\n",
      " [6 5 4]]\n"
     ]
    }
   ],
   "source": [
    "#Cambiar datos dentro de un  array\n",
    "print(matriz_)\n",
    "copia_matriz = matriz_.copy()\n",
    "\n",
    "#hacer la primera fila ceros\n",
    "copia_matriz[0]=0\n",
    "print(copia_matriz)"
   ]
  },
  {
   "cell_type": "code",
   "execution_count": 18,
   "metadata": {},
   "outputs": [
    {
     "name": "stdout",
     "output_type": "stream",
     "text": [
      "[[1 2 3]\n",
      " [7 8 9]\n",
      " [6 5 4]]\n",
      "[[1 2 3]\n",
      " [7 8 9]\n",
      " [0 0 0]]\n"
     ]
    }
   ],
   "source": [
    "#Cambiar datos dentro de un  array\n",
    "print(matriz_)\n",
    "copia_matriz = matriz_.copy()\n",
    "\n",
    "#hacer la ultima fila ceros\n",
    "copia_matriz[2]=0\n",
    "print(copia_matriz)"
   ]
  },
  {
   "cell_type": "code",
   "execution_count": 19,
   "metadata": {},
   "outputs": [
    {
     "name": "stdout",
     "output_type": "stream",
     "text": [
      "[[1 2 3]\n",
      " [7 8 9]\n",
      " [6 5 4]]\n",
      "[[0 2 3]\n",
      " [0 8 9]\n",
      " [0 5 4]]\n"
     ]
    }
   ],
   "source": [
    "#Cambiar datos dentro de un  array\n",
    "print(matriz_)\n",
    "copia_matriz = matriz_.copy()\n",
    "\n",
    "#hacer la primera columna ceros\n",
    "copia_matriz[:,[0]]=0\n",
    "print(copia_matriz)"
   ]
  },
  {
   "cell_type": "code",
   "execution_count": 20,
   "metadata": {},
   "outputs": [
    {
     "name": "stdout",
     "output_type": "stream",
     "text": [
      "[[1 2 3]\n",
      " [7 8 9]\n",
      " [6 5 4]]\n",
      "La columna seleccionada es \n",
      " [[2]\n",
      " [8]\n",
      " [5]]\n"
     ]
    }
   ],
   "source": [
    "#Seleccionar datos dentro de un array\n",
    "print(matriz_)\n",
    "copia_matriz = matriz_.copy()\n",
    "\n",
    "#Escoger una columna\n",
    "print(\"La columna seleccionada es \\n\", copia_matriz[:,[1]])"
   ]
  },
  {
   "cell_type": "code",
   "execution_count": 22,
   "metadata": {},
   "outputs": [
    {
     "name": "stdout",
     "output_type": "stream",
     "text": [
      "[[1 2 3]\n",
      " [7 8 9]\n",
      " [6 5 4]]\n",
      "El dato seleccionado es \n",
      " [8]\n"
     ]
    }
   ],
   "source": [
    "#Seleccionar datos dentro de un array\n",
    "print(matriz_)\n",
    "copia_matriz = matriz_.copy()\n",
    "\n",
    "#Escoger un dato\n",
    "print(\"El dato seleccionado es \\n\", copia_matriz[[1],[1]])"
   ]
  },
  {
   "cell_type": "code",
   "execution_count": 23,
   "metadata": {},
   "outputs": [
    {
     "name": "stdout",
     "output_type": "stream",
     "text": [
      "[[[ 0  1  2  3  4]\n",
      "  [ 5  6  7  8  9]]\n",
      "\n",
      " [[10 11 12 13 14]\n",
      "  [15 16 17 18 19]]\n",
      "\n",
      " [[20 21 22 23 24]\n",
      "  [25 26 27 28 29]]]\n"
     ]
    }
   ],
   "source": [
    "#Generar 3 grupos de matrices de 2X5\n",
    "matriz_generada = np.arange(30).reshape(3,2,5)\n",
    "print(matriz_generada)"
   ]
  },
  {
   "cell_type": "code",
   "execution_count": 24,
   "metadata": {},
   "outputs": [
    {
     "name": "stdout",
     "output_type": "stream",
     "text": [
      "[[ 0  1  2  3  4]\n",
      " [ 5  6  7  8  9]\n",
      " [10 11 12 13 14]\n",
      " [15 16 17 18 19]\n",
      " [20 21 22 23 24]\n",
      " [25 26 27 28 29]]\n"
     ]
    }
   ],
   "source": [
    "matriz_generada = np.arange(30).reshape(6,5)\n",
    "print(matriz_generada)"
   ]
  },
  {
   "cell_type": "code",
   "execution_count": 25,
   "metadata": {},
   "outputs": [
    {
     "name": "stdout",
     "output_type": "stream",
     "text": [
      "[[ 1  2  3  4]\n",
      " [ 5  6  7  8]\n",
      " [ 9 10 11 12]]\n"
     ]
    }
   ],
   "source": [
    "matriz_generada = np.arange(1,1+(3*4)).reshape(3,4)\n",
    "print(matriz_generada)"
   ]
  },
  {
   "cell_type": "code",
   "execution_count": 26,
   "metadata": {},
   "outputs": [
    {
     "name": "stdout",
     "output_type": "stream",
     "text": [
      "[[ 1  5  9]\n",
      " [ 2  6 10]\n",
      " [ 3  7 11]\n",
      " [ 4  8 12]]\n"
     ]
    }
   ],
   "source": [
    "#Vista transversal\n",
    "matriz_generada = np.arange(1,1+(3*4)).reshape(3,4)\n",
    "print(matriz_generada.T)"
   ]
  },
  {
   "cell_type": "code",
   "execution_count": 27,
   "metadata": {},
   "outputs": [
    {
     "name": "stdout",
     "output_type": "stream",
     "text": [
      "5\n"
     ]
    }
   ],
   "source": [
    "#Crear array de forma aleatoria / un dado\n",
    "matriz_aleatoria =np.random.randint(1,6)\n",
    "print(matriz_aleatoria)"
   ]
  },
  {
   "cell_type": "code",
   "execution_count": 28,
   "metadata": {},
   "outputs": [
    {
     "name": "stdout",
     "output_type": "stream",
     "text": [
      "[1 2 3 4]\n",
      "[5 6 7 8]\n",
      "[ 6  8 10 12]\n"
     ]
    }
   ],
   "source": [
    "#Sumar array\n",
    "matriz1 = np.arange(1,1+4)\n",
    "print(matriz1)\n",
    "matriz2 = np.arange(5,5+4)\n",
    "print(matriz2)\n",
    "suma = matriz1 +matriz2\n",
    "print(suma)"
   ]
  },
  {
   "cell_type": "code",
   "execution_count": 29,
   "metadata": {},
   "outputs": [
    {
     "name": "stdout",
     "output_type": "stream",
     "text": [
      "[5 8 6 7]\n",
      "8\n"
     ]
    }
   ],
   "source": [
    "#Valor maximo de los array\n",
    "mat1=[5,2,3,7]\n",
    "mat2=[4,8,6,1]\n",
    "valor_maximo = np.maximum(mat1,mat2)#Selecciona maximo por columna\n",
    "print(valor_maximo) #Imprima la matriz con los valores maximos\n",
    "print(np.max(valor_maximo)) # Imprime el valor maximo"
   ]
  },
  {
   "cell_type": "code",
   "execution_count": 1,
   "metadata": {},
   "outputs": [
    {
     "name": "stdout",
     "output_type": "stream",
     "text": [
      "Matriz inversa de A es \n",
      " [[ 0.  1.  0.]\n",
      " [ 1.  0. -1.]\n",
      " [ 0.  0.  1.]]\n",
      "x es:\n",
      " [[1.]\n",
      " [2.]\n",
      " [3.]]\n",
      "No subestimemos el poder de numpy\n"
     ]
    }
   ],
   "source": [
    "#Resolucion de sistemas de ecuaciones\n",
    "\"\"\"\n",
    "Supongamos que tenemos el siguiente sistema de ecuaciones y necesitamos resolverlo\n",
    "\n",
    "x2+x3=5\n",
    "x1=1 \n",
    "x3=3\n",
    "\"\"\"\n",
    "\n",
    "#importar numpy como np\n",
    "import numpy as np\n",
    "\n",
    "#definir una matriz A\n",
    "A = np.array([[0,1,1],[1,0,0],[0,0,1]])\n",
    "\n",
    "#definir matriz B\n",
    "B = np.array([[5],[1],[3]])\n",
    "\n",
    "#Calcular invA\n",
    "invA = np.linalg.inv(A)\n",
    "\n",
    "#Imprimir matriz inversa de A\n",
    "print(\"Matriz inversa de A es \\n\", invA) \n",
    "\n",
    "#Calcular x\n",
    "x = invA.dot(B)\n",
    "\n",
    "#Imprimir la matriz inversar de A\n",
    "print(\"x es:\\n\",x) \n",
    "\n",
    "print(\"No subestimemos el poder de numpy\")"
   ]
  },
  {
   "cell_type": "markdown",
   "metadata": {},
   "source": [
    "# Ejercicios\n",
    "* Usar la funcion de interpola; (dentro de 2 lisas ubica los valores e interpola  introduciendo un x1) "
   ]
  },
  {
   "cell_type": "code",
   "execution_count": 2,
   "metadata": {},
   "outputs": [],
   "source": [
    "# Datos a y b\n",
    "a=[11, 22, 33, 99, 55,4]\n",
    "b=[9, 8, 6, 5, 2, 1]"
   ]
  },
  {
   "cell_type": "code",
   "execution_count": 9,
   "metadata": {},
   "outputs": [
    {
     "name": "stdout",
     "output_type": "stream",
     "text": [
      "1.0\n"
     ]
    }
   ],
   "source": [
    "import numpy as np\n",
    "\n",
    "x=10\n",
    "res =  np.interp(x,a,b)\n",
    "\n",
    "print(res)"
   ]
  },
  {
   "cell_type": "code",
   "execution_count": null,
   "metadata": {},
   "outputs": [],
   "source": []
  },
  {
   "cell_type": "code",
   "execution_count": null,
   "metadata": {},
   "outputs": [],
   "source": []
  },
  {
   "cell_type": "markdown",
   "metadata": {},
   "source": [
    "# Pandas"
   ]
  },
  {
   "cell_type": "code",
   "execution_count": null,
   "metadata": {},
   "outputs": [],
   "source": []
  }
 ],
 "metadata": {
  "kernelspec": {
   "display_name": "Python 3",
   "language": "python",
   "name": "python3"
  },
  "language_info": {
   "codemirror_mode": {
    "name": "ipython",
    "version": 3
   },
   "file_extension": ".py",
   "mimetype": "text/x-python",
   "name": "python",
   "nbconvert_exporter": "python",
   "pygments_lexer": "ipython3",
   "version": "3.7.1"
  }
 },
 "nbformat": 4,
 "nbformat_minor": 2
}
