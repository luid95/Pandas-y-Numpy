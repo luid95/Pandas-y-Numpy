{
 "cells": [
  {
   "cell_type": "markdown",
   "metadata": {},
   "source": [
    "# Variables \n",
    "# Python desde cero hasta analisis estadisticos con Pandas con Numpy\n",
    "# Toma la descision utilizando la tecnologia disponible"
   ]
  },
  {
   "cell_type": "markdown",
   "metadata": {},
   "source": [
    "* Una variable en Python es la reserva de una ubicacion de memoria para almacenar valores.En otras palabras,\n",
    "* una variable en un programa de Python proporciona datos a la computadora para su procesamiento."
   ]
  },
  {
   "cell_type": "code",
   "execution_count": 6,
   "metadata": {},
   "outputs": [
    {
     "name": "stdout",
     "output_type": "stream",
     "text": [
      "Este numero es entero:  100\n",
      "Este numero contiene decimal:  1.34\n",
      "Quien esta tomando el curso de python:  Luis D. Morales\n"
     ]
    }
   ],
   "source": [
    "numero_sin_decimal = 100     #un entero\n",
    "precio_euro = 1.34           #una variable punto flotante\n",
    "nombre = \"Luis D. Morales\"   #una cadena\n",
    "\n",
    "#imprimir las variables para ser vistas\n",
    "print(\"Este numero es entero: \", numero_sin_decimal)\n",
    "print(\"Este numero contiene decimal: \", precio_euro)\n",
    "print(\"Quien esta tomando el curso de python: \", nombre)"
   ]
  },
  {
   "cell_type": "code",
   "execution_count": 7,
   "metadata": {},
   "outputs": [],
   "source": [
    "#Las variables pueden ser declaradas por cualquier nombre, siguiendo las siguientes reglas:\n",
    "\n",
    "#Los nombres de las variables pueden contener letras, numeros y guiones bajos.\n",
    "#Los nombres de las varibles deben comenzar con una letra o guien bajo, nunca con un numero\n",
    "#Los nombre son sencibles a mayúsculas y minúsculas"
   ]
  },
  {
   "cell_type": "code",
   "execution_count": 11,
   "metadata": {},
   "outputs": [
    {
     "name": "stdout",
     "output_type": "stream",
     "text": [
      "['asadfghzxcvbqwertt', 'Luis D.', 123, 'Morales', 1.32, None]\n",
      "Luis David Morales A.\n"
     ]
    }
   ],
   "source": [
    "numero_sin_decimal = 100                                               #Un entero\n",
    "precioEuro = 1.34                                                      #Una variable con punto flotante\n",
    "_nombre = \"Luis David Morales A.\"                                       #Una cadena\n",
    "l35l4 = ['asadfghzxcvbqwertt', 'Luis D.', 123, 'Morales', 1.32, None]  #lista\n",
    "print(l35l4)\n",
    "print(_nombre)"
   ]
  },
  {
   "cell_type": "code",
   "execution_count": 9,
   "metadata": {},
   "outputs": [],
   "source": [
    "#Cada valor en Python tiene un tipo de datos que es dinámico (puede cambiar durante la ejecución del programa)."
   ]
  },
  {
   "cell_type": "code",
   "execution_count": 12,
   "metadata": {},
   "outputs": [
    {
     "name": "stdout",
     "output_type": "stream",
     "text": [
      "Este numero es entero:  100\n",
      "Este numero contiene decimal:  1.34\n",
      "Quien esta tomando el curso de python:  Luis D. Morales\n",
      "\n",
      "Este numero es entero:  Luis D. Morales\n",
      "Este numero contiene decimal:  None\n",
      "Quien esta tomando el curso de python:  123\n"
     ]
    }
   ],
   "source": [
    "numero_sin_decimal = 100     #un entero\n",
    "precio_euro = 1.34           #una variable punto flotante\n",
    "nombre = \"Luis D. Morales\"   #una cadena\n",
    "\n",
    "#imprimir las variables para ser vistas\n",
    "print(\"Este numero es entero: \", numero_sin_decimal)\n",
    "print(\"Este numero contiene decimal: \", precio_euro)\n",
    "print(\"Quien esta tomando el curso de python: \", nombre)\n",
    "\n",
    "print()             #separamos las impresiones\n",
    "\n",
    "numero_sin_decimal = nombre     #un entero\n",
    "precio_euro = None              #una variable punto flotante\n",
    "nombre = 123                    #una cadena\n",
    "\n",
    "#imprimir las variables para ser vistas\n",
    "print(\"Este numero es entero: \", numero_sin_decimal)\n",
    "print(\"Este numero contiene decimal: \", precio_euro)\n",
    "print(\"Quien esta tomando el curso de python: \", nombre)"
   ]
  },
  {
   "cell_type": "markdown",
   "metadata": {},
   "source": [
    "# Los diferentes tipos de datos en Python son Números, Listas, Tuplas, Cadenas, Diccionarios, etc.\n",
    "# //////////////    lista /////////////////////////////////////////////////////////////////////"
   ]
  },
  {
   "cell_type": "code",
   "execution_count": 15,
   "metadata": {},
   "outputs": [
    {
     "name": "stdout",
     "output_type": "stream",
     "text": [
      "['asadfghzxcvbqwertt', 'Luis D.', 123, 'Morales', 1.32, None]\n"
     ]
    }
   ],
   "source": [
    "lista = ['asadfghzxcvbqwertt', 'Luis D.', 123, 'Morales', 1.32, None]  #lista\n",
    "\n",
    "print(lista)"
   ]
  },
  {
   "cell_type": "code",
   "execution_count": 16,
   "metadata": {},
   "outputs": [
    {
     "name": "stdout",
     "output_type": "stream",
     "text": [
      "Luis D. Morales\n"
     ]
    }
   ],
   "source": [
    "#Si queremos un datos dentro de la lista\n",
    "# La lsita comienza el indice para ubicar el dato desde0. Es decir que el primer dato seria lista[0].\n",
    "# El segundo dato seria lista[1], y asi sucesivamente.\n",
    "\n",
    "print(lista[1], lista[3])"
   ]
  },
  {
   "cell_type": "code",
   "execution_count": 17,
   "metadata": {},
   "outputs": [
    {
     "name": "stdout",
     "output_type": "stream",
     "text": [
      "La lista antes creada tiene:  6  elementos.\n"
     ]
    }
   ],
   "source": [
    "#Tamaño de una lista\n",
    "print(\"La lista antes creada tiene: \", len(lista), \" elementos.\")"
   ]
  },
  {
   "cell_type": "code",
   "execution_count": 18,
   "metadata": {},
   "outputs": [
    {
     "name": "stdout",
     "output_type": "stream",
     "text": [
      "['asadfghzxcvbqwertt', 'Luis D.', 123, 'Morales', 1.32, None, 'otro dato mas']\n"
     ]
    }
   ],
   "source": [
    "#Anexar datos a una lista\n",
    "lista.append(\"otro dato mas\")\n",
    "print(lista)"
   ]
  },
  {
   "cell_type": "code",
   "execution_count": 13,
   "metadata": {},
   "outputs": [
    {
     "ename": "NameError",
     "evalue": "name 'lista' is not defined",
     "output_type": "error",
     "traceback": [
      "\u001b[0;31m---------------------------------------------------------------------------\u001b[0m",
      "\u001b[0;31mNameError\u001b[0m                                 Traceback (most recent call last)",
      "\u001b[0;32m<ipython-input-13-558b60073537>\u001b[0m in \u001b[0;36m<module>\u001b[0;34m\u001b[0m\n\u001b[1;32m      1\u001b[0m \u001b[0;31m#Unir listas\u001b[0m\u001b[0;34m\u001b[0m\u001b[0;34m\u001b[0m\u001b[0;34m\u001b[0m\u001b[0m\n\u001b[1;32m      2\u001b[0m \u001b[0mlista_otra\u001b[0m\u001b[0;34m=\u001b[0m\u001b[0;34m[\u001b[0m\u001b[0;34m\"usuario\"\u001b[0m\u001b[0;34m,\u001b[0m \u001b[0;36m12345\u001b[0m\u001b[0;34m]\u001b[0m\u001b[0;34m\u001b[0m\u001b[0;34m\u001b[0m\u001b[0m\n\u001b[0;32m----> 3\u001b[0;31m \u001b[0mlista\u001b[0m \u001b[0;34m=\u001b[0m \u001b[0mlista\u001b[0m \u001b[0;34m+\u001b[0m \u001b[0mlista_otra\u001b[0m\u001b[0;34m\u001b[0m\u001b[0;34m\u001b[0m\u001b[0m\n\u001b[0m\u001b[1;32m      4\u001b[0m \u001b[0mprint\u001b[0m\u001b[0;34m(\u001b[0m\u001b[0mlista\u001b[0m\u001b[0;34m)\u001b[0m\u001b[0;34m\u001b[0m\u001b[0;34m\u001b[0m\u001b[0m\n",
      "\u001b[0;31mNameError\u001b[0m: name 'lista' is not defined"
     ]
    }
   ],
   "source": [
    "#Unir listas\n",
    "lista_otra=[\"usuario\", 12345]\n",
    "lista = lista + lista_otra\n",
    "print(lista)"
   ]
  },
  {
   "cell_type": "code",
   "execution_count": 15,
   "metadata": {},
   "outputs": [
    {
     "ename": "NameError",
     "evalue": "name 'lista' is not defined",
     "output_type": "error",
     "traceback": [
      "\u001b[0;31m---------------------------------------------------------------------------\u001b[0m",
      "\u001b[0;31mNameError\u001b[0m                                 Traceback (most recent call last)",
      "\u001b[0;32m<ipython-input-15-2c66aaa694f9>\u001b[0m in \u001b[0;36m<module>\u001b[0;34m\u001b[0m\n\u001b[1;32m      1\u001b[0m \u001b[0;31m#Si se necesita datos especificos: Luis D., 123, Morales, 1.32\u001b[0m\u001b[0;34m\u001b[0m\u001b[0;34m\u001b[0m\u001b[0;34m\u001b[0m\u001b[0m\n\u001b[0;32m----> 2\u001b[0;31m \u001b[0mprint\u001b[0m\u001b[0;34m(\u001b[0m\u001b[0mlista\u001b[0m\u001b[0;34m[\u001b[0m\u001b[0;36m1\u001b[0m\u001b[0;34m:\u001b[0m\u001b[0;36m4\u001b[0m\u001b[0;34m]\u001b[0m\u001b[0;34m)\u001b[0m \u001b[0;31m# Los indices estas desde el indice 1 al 4.\u001b[0m\u001b[0;34m\u001b[0m\u001b[0;34m\u001b[0m\u001b[0m\n\u001b[0m",
      "\u001b[0;31mNameError\u001b[0m: name 'lista' is not defined"
     ]
    }
   ],
   "source": [
    "#Si se necesita datos especificos: Luis D., 123, Morales, 1.32\n",
    "print(lista[1:4]) # Los indices estas desde el indice 1 al 4."
   ]
  },
  {
   "cell_type": "code",
   "execution_count": 22,
   "metadata": {},
   "outputs": [
    {
     "name": "stdout",
     "output_type": "stream",
     "text": [
      "['asadfghzxcvbqwertt', 'Luis D.', 123, 'Morales', 1.32, None, 'otro dato mas', 'usuario']\n"
     ]
    }
   ],
   "source": [
    "lista.remove(12345) # Borrar un dato dentro de la lista\n",
    "print(lista)"
   ]
  },
  {
   "cell_type": "code",
   "execution_count": 23,
   "metadata": {},
   "outputs": [
    {
     "data": {
      "text/plain": [
       "True"
      ]
     },
     "execution_count": 23,
     "metadata": {},
     "output_type": "execute_result"
    }
   ],
   "source": [
    "123 in lista # Determina si un valor esta dentro de la lista"
   ]
  },
  {
   "cell_type": "code",
   "execution_count": 11,
   "metadata": {},
   "outputs": [],
   "source": [
    "#Tupla /////////////////////////////////////////////////////////////////////////////////////////"
   ]
  },
  {
   "cell_type": "code",
   "execution_count": 17,
   "metadata": {},
   "outputs": [
    {
     "name": "stdout",
     "output_type": "stream",
     "text": [
      "('arroz', 'vaca', 2021, 1975)\n"
     ]
    }
   ],
   "source": [
    "tupla = ('arroz', 'vaca', 2021, 1975)  #tupla\n",
    "print(tupla)"
   ]
  },
  {
   "cell_type": "code",
   "execution_count": 18,
   "metadata": {},
   "outputs": [
    {
     "name": "stdout",
     "output_type": "stream",
     "text": [
      "vaca 1975\n"
     ]
    }
   ],
   "source": [
    "#Si queremos un dato dentro de una tupla\n",
    "# La tupla comienza el indice para ubicar el dato desde 0. Es decir que el primer dato seria tupla[0]\n",
    "# El segundo seria tupla[1] y así sucesivamente\n",
    "\n",
    "print(tupla[1], tupla[3])"
   ]
  },
  {
   "cell_type": "code",
   "execution_count": 19,
   "metadata": {},
   "outputs": [
    {
     "name": "stdout",
     "output_type": "stream",
     "text": [
      "La tupla antes creada tiene:  4  elementos\n"
     ]
    }
   ],
   "source": [
    "# Tamaño de la tupla\n",
    "print(\"La tupla antes creada tiene: \", len(tupla),\" elementos\")"
   ]
  },
  {
   "cell_type": "code",
   "execution_count": 21,
   "metadata": {},
   "outputs": [
    {
     "name": "stdout",
     "output_type": "stream",
     "text": [
      "('arroz', 'vaca', 2021, 1975, 'otro dato mas', 'otro dato mas')\n"
     ]
    }
   ],
   "source": [
    "# Anexar datos a una tupla\n",
    "tupla = tupla+(\"otro dato mas\",)\n",
    "print(tupla)"
   ]
  },
  {
   "cell_type": "code",
   "execution_count": 22,
   "metadata": {},
   "outputs": [
    {
     "name": "stdout",
     "output_type": "stream",
     "text": [
      "([1, 2, 3], [6, 7, 8])\n"
     ]
    }
   ],
   "source": [
    "# Una tupla de listas\n",
    "lista1=[1,2,3]\n",
    "lista2=[6,7,8]\n",
    "tupla1_=(lista1, lista2)\n",
    "print(tupla1_)"
   ]
  },
  {
   "cell_type": "code",
   "execution_count": 23,
   "metadata": {},
   "outputs": [],
   "source": [
    "# //////////////////////////////// Numeros /////////////////////////////////////////////"
   ]
  },
  {
   "cell_type": "code",
   "execution_count": 24,
   "metadata": {},
   "outputs": [
    {
     "name": "stdout",
     "output_type": "stream",
     "text": [
      "4\n"
     ]
    }
   ],
   "source": [
    "# Entero\n",
    "valor_1 = 1\n",
    "valor_2 = 3\n",
    "suma = valor_1 + valor_2\n",
    "print(suma)"
   ]
  },
  {
   "cell_type": "code",
   "execution_count": 25,
   "metadata": {},
   "outputs": [
    {
     "name": "stdout",
     "output_type": "stream",
     "text": [
      "4.5\n"
     ]
    }
   ],
   "source": [
    "#Float\n",
    "largo_n = 1.5\n",
    "ancho_m = 3\n",
    "area = largo_n + ancho_m\n",
    "print(area)"
   ]
  },
  {
   "cell_type": "code",
   "execution_count": 26,
   "metadata": {},
   "outputs": [],
   "source": [
    "# //////////////////// Cadenas //////////////////////////////"
   ]
  },
  {
   "cell_type": "code",
   "execution_count": 27,
   "metadata": {},
   "outputs": [
    {
     "name": "stdout",
     "output_type": "stream",
     "text": [
      "La variable varstr1 teine  11  caracteres\n",
      "La variable var_str_2 teine  48  caracteres\n"
     ]
    }
   ],
   "source": [
    "varstr1 = 'Hola mundo!' # Cadena\n",
    "var_str_2 = 'Nadie conoció la mente humana mejor que Sócrates' #Cadena\n",
    "\n",
    "#Tamaños de las cadenas\n",
    "print(\"La variable varstr1 teine \", len(varstr1), \" caracteres\")\n",
    "print(\"La variable var_str_2 teine \", len(var_str_2), \" caracteres\")"
   ]
  },
  {
   "cell_type": "code",
   "execution_count": 28,
   "metadata": {},
   "outputs": [
    {
     "name": "stdout",
     "output_type": "stream",
     "text": [
      "varstr1[0]:  H\n",
      "var_str_2[10:20]:  ció la men\n"
     ]
    }
   ],
   "source": [
    "print(\"varstr1[0]: \",varstr1[0]) #Imprime la 'H'\n",
    "print(\"var_str_2[10:20]: \", var_str_2[10:20] ) #Imprime  'ció de la men'"
   ]
  },
  {
   "cell_type": "code",
   "execution_count": 31,
   "metadata": {},
   "outputs": [
    {
     "name": "stdout",
     "output_type": "stream",
     "text": [
      "Antes de eliminar los espacios vacios en varstr11:      Hola Mundo!     \n",
      "Despues de eliminar los espacios vacios en var_nueva:  Hola Mundo!\n"
     ]
    }
   ],
   "source": [
    "#Eliminar los espacios vacios antes y despues del texto\n",
    "varstr11='     Hola Mundo!     '#Cadena\n",
    "print(\"Antes de eliminar los espacios vacios en varstr11:\", varstr11 )\n",
    "\n",
    "var_nueva = varstr11.strip()\n",
    "print(\"Despues de eliminar los espacios vacios en var_nueva: \", var_nueva)"
   ]
  },
  {
   "cell_type": "code",
   "execution_count": 33,
   "metadata": {},
   "outputs": [
    {
     "name": "stdout",
     "output_type": "stream",
     "text": [
      "varstr11 sigue teniendo los espacios vacios      Hola Mundo!     \n",
      "varstr11 sin espacios vacios Hola Mundo!\n"
     ]
    }
   ],
   "source": [
    "print(\"varstr11 sigue teniendo los espacios vacios\", varstr11)\n",
    "\n",
    "varstr11 = varstr11.strip() #Se eliminan los espacios vacios y el resultado se guarda en el mismo nombre\n",
    "print(\"varstr11 sin espacios vacios\", varstr11)"
   ]
  },
  {
   "cell_type": "code",
   "execution_count": 34,
   "metadata": {},
   "outputs": [
    {
     "name": "stdout",
     "output_type": "stream",
     "text": [
      "nadie conoció la mente humana mejor que sócrates\n",
      "NADIE CONOCIÓ LA MENTE HUMANA MEJOR QUE SÓCRATES\n",
      "Cambiamos la 'o' por la 'a' :  Nadie canació la mente humana mejar que Sócrates\n",
      "Cambiamos la 'o' por la 'a' y eliminamos la 'n':  Nadie caació la mete humaa mejar que Sócrates\n"
     ]
    }
   ],
   "source": [
    "print(var_str_2.lower()) #Imprime todos los carecteres en minusculas\n",
    "print(var_str_2.upper()) #Imprime todos los caracteres en mayusculas\n",
    "print(\"Cambiamos la 'o' por la 'a' : \", var_str_2.replace(\"o\", \"a\")) #Cambiamos la o por a\n",
    "print(\"Cambiamos la 'o' por la 'a' y eliminamos la 'n': \", var_str_2.replace(\"o\", \"a\").replace(\"n\", \"\")) #Cambiamos la o por a"
   ]
  },
  {
   "cell_type": "code",
   "execution_count": 36,
   "metadata": {},
   "outputs": [
    {
     "name": "stdout",
     "output_type": "stream",
     "text": [
      "Texto original:  Nadie conoció la mente humana mejor que Sócrates\n",
      "['Nadie c', 'n', 'ció la mente humana mej', 'r que Sócrates']\n"
     ]
    }
   ],
   "source": [
    "print(\"Texto original: \", var_str_2)\n",
    "\n",
    "#Creamos una lista a partir de un caracter divisorio\n",
    "lista_ = var_str_2.split('o') #Separa por la letra 'o'\n",
    "print(lista_)"
   ]
  },
  {
   "cell_type": "code",
   "execution_count": 38,
   "metadata": {},
   "outputs": [
    {
     "name": "stdout",
     "output_type": "stream",
     "text": [
      "False\n",
      "True\n"
     ]
    }
   ],
   "source": [
    "print(var_str_2.isnumeric()) # es un numero lo que almacena la variable var_str_2?\n",
    "var = \"2\"\n",
    "print(var.isnumeric())"
   ]
  },
  {
   "cell_type": "code",
   "execution_count": 6,
   "metadata": {},
   "outputs": [
    {
     "name": "stdout",
     "output_type": "stream",
     "text": [
      "Texto original:  Nadie conoció la mente humana mejor que Sócrates\n",
      "Cantidad de 'o' en el texto:  3\n",
      "Cantidad de ' ' en el texto:  7\n",
      "Cantidad de '*' en el texto:  0\n"
     ]
    }
   ],
   "source": [
    "var_new = \"Nadie conoció la mente humana mejor que Sócrates\"\n",
    "print(\"Texto original: \", var_new)\n",
    "\n",
    "#Contar la cantidad de un caracter\n",
    "print(\"Cantidad de 'o' en el texto: \",var_new.count('o'))\n",
    "print(\"Cantidad de ' ' en el texto: \",var_new.count(' '))\n",
    "print(\"Cantidad de '*' en el texto: \",var_new.count('*'))"
   ]
  },
  {
   "cell_type": "code",
   "execution_count": 7,
   "metadata": {},
   "outputs": [
    {
     "name": "stdout",
     "output_type": "stream",
     "text": [
      "Texto original:  Nadie conoció la mente humana mejor que Sócrates\n",
      "\n",
      "Texto en dos lineas y contabulacion \n",
      "\t Nadie conoció la mente humana mejor que Sócrates\n",
      "\t Tambien fue maestro de Platón\n"
     ]
    }
   ],
   "source": [
    "var_new = \"Nadie conoció la mente humana mejor que Sócrates\"\n",
    "print(\"Texto original: \", var_new)\n",
    "print() #Separacion\n",
    "\n",
    "#Imprimir en otra linea nueva '\\n' y con tabulacion '\\t'\n",
    "var_new += \"\\n\\t Tambien fue maestro de Platón\"\n",
    "print(\"Texto en dos lineas y contabulacion \\n\\t\", var_new)"
   ]
  },
  {
   "cell_type": "code",
   "execution_count": null,
   "metadata": {},
   "outputs": [],
   "source": []
  }
 ],
 "metadata": {
  "kernelspec": {
   "display_name": "Python 3",
   "language": "python",
   "name": "python3"
  },
  "language_info": {
   "codemirror_mode": {
    "name": "ipython",
    "version": 3
   },
   "file_extension": ".py",
   "mimetype": "text/x-python",
   "name": "python",
   "nbconvert_exporter": "python",
   "pygments_lexer": "ipython3",
   "version": "3.7.1"
  }
 },
 "nbformat": 4,
 "nbformat_minor": 2
}
