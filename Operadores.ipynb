{
 "cells": [
  {
   "cell_type": "markdown",
   "metadata": {},
   "source": [
    "# OPERADORES"
   ]
  },
  {
   "cell_type": "markdown",
   "metadata": {},
   "source": [
    "## En este apartado veremos los siguientes tipos de operadores. ##"
   ]
  },
  {
   "cell_type": "markdown",
   "metadata": {},
   "source": [
    "* Aritméticos\n",
    "* Relacionales o comparación\n",
    "* Asignación\n",
    "* Lógicos\n",
    "* in (membresía)\n",
    "* is (identidad)"
   ]
  },
  {
   "cell_type": "markdown",
   "metadata": {},
   "source": [
    "### Aritméticos"
   ]
  },
  {
   "cell_type": "code",
   "execution_count": 2,
   "metadata": {},
   "outputs": [
    {
     "name": "stdout",
     "output_type": "stream",
     "text": [
      "Suma:  18\n",
      "Resta:  8\n",
      "Multiplicacion:  65\n",
      "Division:  2.6\n"
     ]
    }
   ],
   "source": [
    "valor1 =13\n",
    "valor2 =5\n",
    "\n",
    "#suma\n",
    "print(\"Suma: \", valor1 + valor2)\n",
    "\n",
    "#resta\n",
    "print(\"Resta: \", valor1 - valor2)\n",
    "\n",
    "#multiplicacion\n",
    "print(\"Multiplicacion: \", valor1 * valor2)\n",
    "\n",
    "#division\n",
    "print(\"Division: \", valor1 / valor2)"
   ]
  },
  {
   "cell_type": "code",
   "execution_count": 3,
   "metadata": {},
   "outputs": [
    {
     "name": "stdout",
     "output_type": "stream",
     "text": [
      "Division redondeo piso:  2\n"
     ]
    }
   ],
   "source": [
    "# Division redondeo hacia abajo\n",
    "print(\"Division redondeo piso: \", valor1 // valor2)"
   ]
  },
  {
   "cell_type": "code",
   "execution_count": 4,
   "metadata": {},
   "outputs": [
    {
     "name": "stdout",
     "output_type": "stream",
     "text": [
      "13 dividido  5  redondeado hacia abajo es  2 \n",
      "Y 13 menos ( 5 multiplicado 2 ), es el residuo:  3\n"
     ]
    }
   ],
   "source": [
    "# Residuo de una division\n",
    "print(valor1, \"dividido \", valor2, \" redondeado hacia abajo es \", valor1//valor2,\n",
    "     \"\\nY\", valor1, \"menos (\", valor2,\"multiplicado\", valor1//valor2, \"), es el residuo: \", valor1%valor2)"
   ]
  },
  {
   "cell_type": "code",
   "execution_count": 6,
   "metadata": {},
   "outputs": [
    {
     "name": "stdout",
     "output_type": "stream",
     "text": [
      "13 elevado a  5 es:  371293\n"
     ]
    }
   ],
   "source": [
    "# Potencia\n",
    "print(valor1, \"elevado a \", valor2, \"es: \", valor1**valor2)"
   ]
  },
  {
   "cell_type": "markdown",
   "metadata": {},
   "source": [
    "# Comparación"
   ]
  },
  {
   "cell_type": "code",
   "execution_count": 2,
   "metadata": {},
   "outputs": [
    {
     "name": "stdout",
     "output_type": "stream",
     "text": [
      "Val1 y val2 son iguales False\n"
     ]
    }
   ],
   "source": [
    "val1=13\n",
    "val2=5\n",
    "\n",
    "# Igualdad\n",
    "print(\"Val1 y val2 son iguales\", val1==val2)"
   ]
  },
  {
   "cell_type": "code",
   "execution_count": 3,
   "metadata": {},
   "outputs": [
    {
     "name": "stdout",
     "output_type": "stream",
     "text": [
      "Val1 y val2 son iguales True\n"
     ]
    }
   ],
   "source": [
    "# Diferentes\n",
    "print(\"Val1 y val2 son iguales\", val1!=val2)"
   ]
  },
  {
   "cell_type": "code",
   "execution_count": 4,
   "metadata": {},
   "outputs": [
    {
     "name": "stdout",
     "output_type": "stream",
     "text": [
      "Es val1 > val2 True\n",
      "Es val1 < val2 False\n",
      "Es val1 >= val2 True\n",
      "Es val1 <= val2 False\n"
     ]
    }
   ],
   "source": [
    "# Desiguladad\n",
    "print(\"Es val1 > val2\", val1>val2)\n",
    "print(\"Es val1 < val2\", val1<val2)\n",
    "print(\"Es val1 >= val2\", val1>=val2)\n",
    "print(\"Es val1 <= val2\", val1<=val2)"
   ]
  },
  {
   "cell_type": "code",
   "execution_count": 5,
   "metadata": {},
   "outputs": [
    {
     "name": "stdout",
     "output_type": "stream",
     "text": [
      "cad1 y cad2 son iguales True\n",
      "cad1 y cad2 son diferentes False\n",
      "Es cad1 > cad2 False\n",
      "Es cad1 < cad2 False\n",
      "Es cad1 >= cad2 True\n",
      "Es cad1 <= cad2 True\n"
     ]
    }
   ],
   "source": [
    "cad1 = \"hola\"\n",
    "cad2 = \"hola\"\n",
    "\n",
    "# Igualdad\n",
    "print(\"cad1 y cad2 son iguales\", cad1==cad2)\n",
    "\n",
    "# Diferentes\n",
    "print(\"cad1 y cad2 son diferentes\", cad1!=cad2)\n",
    "\n",
    "# Desiguladad\n",
    "print(\"Es cad1 > cad2\", cad1>cad2)\n",
    "print(\"Es cad1 < cad2\", cad1<cad2)\n",
    "print(\"Es cad1 >= cad2\", cad1>=cad2)\n",
    "print(\"Es cad1 <= cad2\", cad1<=cad2)"
   ]
  },
  {
   "cell_type": "markdown",
   "metadata": {},
   "source": [
    "# Asignación"
   ]
  },
  {
   "cell_type": "code",
   "execution_count": 6,
   "metadata": {},
   "outputs": [],
   "source": [
    "# Asigna una valor a una variable '='.\n",
    "nombre='Luis'\n",
    "edad=23\n",
    "lista=[1,2,3,4,5,6,7]"
   ]
  },
  {
   "cell_type": "code",
   "execution_count": 8,
   "metadata": {},
   "outputs": [
    {
     "name": "stdout",
     "output_type": "stream",
     "text": [
      "Luis Morales\n"
     ]
    }
   ],
   "source": [
    "# Sumar y concatenar(cadena) o sumar (numero) +=\n",
    "nom='Luis'\n",
    "nom+=' Morales'\n",
    "print(nom)"
   ]
  },
  {
   "cell_type": "code",
   "execution_count": 9,
   "metadata": {},
   "outputs": [
    {
     "name": "stdout",
     "output_type": "stream",
     "text": [
      "Antes de sumar  12\n",
      "Después de sumar  25\n"
     ]
    }
   ],
   "source": [
    "numero=12\n",
    "print(\"Antes de sumar \", numero)\n",
    "numero+=13\n",
    "print(\"Después de sumar \", numero)"
   ]
  },
  {
   "cell_type": "code",
   "execution_count": 10,
   "metadata": {},
   "outputs": [
    {
     "name": "stdout",
     "output_type": "stream",
     "text": [
      "Antes de sumar limones  {'limon': 0, 'manzana': 12, 'guayaba': 1}\n",
      "Después de sumar limones  {'limon': 10, 'manzana': 12, 'guayaba': 1}\n"
     ]
    }
   ],
   "source": [
    "diccionario={'limon':0, 'manzana':12 , 'guayaba':1}\n",
    "print(\"Antes de sumar limones \",diccionario)\n",
    "diccionario['limon']+=10\n",
    "print(\"Después de sumar limones \", diccionario)"
   ]
  },
  {
   "cell_type": "code",
   "execution_count": 12,
   "metadata": {},
   "outputs": [
    {
     "name": "stdout",
     "output_type": "stream",
     "text": [
      "Valor original  133\n",
      "Restando 33  100\n",
      "Multiplicado por 2  200\n",
      "Dividimos entre 100 2.0\n",
      "Elevado al cubo  8.0\n"
     ]
    }
   ],
   "source": [
    "valor1=133 #Establecemos un valor\n",
    "print(\"Valor original \", valor1)\n",
    "\n",
    "# Le restamos 33 al valor\n",
    "valor1 -=33\n",
    "print(\"Restando 33 \", valor1)\n",
    "\n",
    "# Le multiplicamos 2 al valor que nos queda\n",
    "valor1 *=2\n",
    "print(\"Multiplicado por 2 \",valor1)\n",
    "\n",
    "# le dividimos 100 al valor que nos queda\n",
    "valor1/=100\n",
    "print(\"Dividimos entre 100\", valor1)\n",
    "\n",
    "# Lo elevamos al cubo\n",
    "valor1**=3\n",
    "print(\"Elevado al cubo \", valor1)"
   ]
  },
  {
   "cell_type": "code",
   "execution_count": 13,
   "metadata": {},
   "outputs": [
    {
     "name": "stdout",
     "output_type": "stream",
     "text": [
      "16.0\n",
      "1.0\n"
     ]
    }
   ],
   "source": [
    "# Tarea para revisar\n",
    "valor1//=0.5\n",
    "print(valor1)\n",
    "valor1%=3\n",
    "print(valor1)"
   ]
  },
  {
   "cell_type": "markdown",
   "metadata": {},
   "source": [
    "# Lógicos"
   ]
  },
  {
   "cell_type": "code",
   "execution_count": 4,
   "metadata": {},
   "outputs": [
    {
     "name": "stdout",
     "output_type": "stream",
     "text": [
      "True and True:  True\n",
      "True and False:  False\n",
      "False and False:  False\n",
      "False and True:  False\n"
     ]
    }
   ],
   "source": [
    "# and si y solo si, Todas los operaciones son True daran como resultado True.\n",
    "print(\"True and True: \", True and True)\n",
    "print(\"True and False: \", True and False)\n",
    "print(\"False and False: \", False and False)\n",
    "print(\"False and True: \", False and True)"
   ]
  },
  {
   "cell_type": "code",
   "execution_count": 8,
   "metadata": {},
   "outputs": [
    {
     "name": "stdout",
     "output_type": "stream",
     "text": [
      "(2>1) and true:  True\n",
      "(2>1) and (3==3):  True\n"
     ]
    }
   ],
   "source": [
    "# Ejemplo de and\n",
    "print('(2>1) and true: ', (2>1) and True)\n",
    "print('(2>1) and (3==3): ', (2>1) and (3==3))"
   ]
  },
  {
   "cell_type": "code",
   "execution_count": 9,
   "metadata": {},
   "outputs": [
    {
     "name": "stdout",
     "output_type": "stream",
     "text": [
      "True or True:  True\n",
      "True or False:  True\n",
      "False or False:  False\n",
      "False or True:  True\n"
     ]
    }
   ],
   "source": [
    "# Or si cualquier operacion es true es resultado sera true\n",
    "print(\"True or True: \", True or True)\n",
    "print(\"True or False: \", True or False)\n",
    "print(\"False or False: \", False or False)\n",
    "print(\"False or True: \", False or True)"
   ]
  },
  {
   "cell_type": "code",
   "execution_count": 7,
   "metadata": {},
   "outputs": [
    {
     "name": "stdout",
     "output_type": "stream",
     "text": [
      "(2>1) or false:  True\n",
      "(2>1) or (3>3):  True\n"
     ]
    }
   ],
   "source": [
    "# Ejemplo de or\n",
    "print('(2>1) or false: ', (2>1) or false)\n",
    "print('(2>1) or (3>3): ', (2>1) or (3>3))"
   ]
  },
  {
   "cell_type": "code",
   "execution_count": 10,
   "metadata": {},
   "outputs": [
    {
     "name": "stdout",
     "output_type": "stream",
     "text": [
      "False\n"
     ]
    }
   ],
   "source": [
    "# Not para la negacion de la operacion\n",
    "print(not True)"
   ]
  },
  {
   "cell_type": "markdown",
   "metadata": {},
   "source": [
    "# Membresía"
   ]
  },
  {
   "cell_type": "code",
   "execution_count": 12,
   "metadata": {},
   "outputs": [
    {
     "name": "stdout",
     "output_type": "stream",
     "text": [
      "True\n"
     ]
    }
   ],
   "source": [
    "# in Retorna true si un elemento se encuentra contenido dentro de otro\n",
    "lista=['perro', 'gato', 'conejo', 'mono']\n",
    "print('gato' in lista)"
   ]
  },
  {
   "cell_type": "code",
   "execution_count": 13,
   "metadata": {},
   "outputs": [
    {
     "name": "stdout",
     "output_type": "stream",
     "text": [
      "False\n"
     ]
    }
   ],
   "source": [
    "print('loro' in lista)"
   ]
  },
  {
   "cell_type": "code",
   "execution_count": 14,
   "metadata": {},
   "outputs": [
    {
     "name": "stdout",
     "output_type": "stream",
     "text": [
      "True\n"
     ]
    }
   ],
   "source": [
    "#not in\n",
    "print('caballo' not in lista)"
   ]
  },
  {
   "cell_type": "markdown",
   "metadata": {},
   "source": [
    "# Identidad"
   ]
  },
  {
   "cell_type": "code",
   "execution_count": 17,
   "metadata": {},
   "outputs": [
    {
     "name": "stdout",
     "output_type": "stream",
     "text": [
      "== True\n",
      "is False\n"
     ]
    }
   ],
   "source": [
    "h1 = \"Hola mundo\" \n",
    "h2 = \"Hola mundo\"\n",
    "print(\"==\", h1 == h2)\n",
    "print(\"is\", h1 is h2)"
   ]
  },
  {
   "cell_type": "code",
   "execution_count": 18,
   "metadata": {},
   "outputs": [
    {
     "name": "stdout",
     "output_type": "stream",
     "text": [
      "is True\n"
     ]
    }
   ],
   "source": [
    "h2 = h1\n",
    "print(\"is\", h1 is h2)"
   ]
  },
  {
   "cell_type": "code",
   "execution_count": null,
   "metadata": {},
   "outputs": [],
   "source": []
  }
 ],
 "metadata": {
  "kernelspec": {
   "display_name": "Python 3",
   "language": "python",
   "name": "python3"
  },
  "language_info": {
   "codemirror_mode": {
    "name": "ipython",
    "version": 3
   },
   "file_extension": ".py",
   "mimetype": "text/x-python",
   "name": "python",
   "nbconvert_exporter": "python",
   "pygments_lexer": "ipython3",
   "version": "3.7.1"
  }
 },
 "nbformat": 4,
 "nbformat_minor": 2
}
