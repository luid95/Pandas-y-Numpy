{
 "cells": [
  {
   "cell_type": "markdown",
   "metadata": {},
   "source": [
    "# Excepciones"
   ]
  },
  {
   "cell_type": "code",
   "execution_count": 6,
   "metadata": {},
   "outputs": [],
   "source": [
    "# Clase persona\n",
    "class Calculadora:\n",
    "    #el constructor\n",
    "    def __init__(self, numero1, numero2):\n",
    "        self.numero1 = numero1\n",
    "        self.numero2 = numero2\n",
    "    \n",
    "    def suma(self):\n",
    "        return self.numero1 + self.numero2\n",
    "    \n",
    "    def resta(self):\n",
    "        return self.numero1 - self.numero2\n",
    "    \n",
    "    def multiplicacion(self):\n",
    "        return self.numero1 * self.numero2\n",
    "    \n",
    "    def division(self):\n",
    "        try:\n",
    "            return self.numero1 / self.numero2\n",
    "        except ZeroDivisionError:\n",
    "            print(\"Error, denominador cero...\")\n",
    "            return 0\n",
    "        except TypeError:\n",
    "            print(\"Error, introduzca caracteres numericos...\")\n",
    "            return 0"
   ]
  },
  {
   "cell_type": "code",
   "execution_count": 14,
   "metadata": {},
   "outputs": [
    {
     "name": "stdout",
     "output_type": "stream",
     "text": [
      "18\n"
     ]
    }
   ],
   "source": [
    "algebra = Calculadora(15, 3)\n",
    "print(algebra.suma())"
   ]
  },
  {
   "cell_type": "code",
   "execution_count": 13,
   "metadata": {},
   "outputs": [
    {
     "name": "stdout",
     "output_type": "stream",
     "text": [
      "12\n"
     ]
    }
   ],
   "source": [
    "# no es necesario instanciar nuevamente la clase\n",
    "\n",
    "print(algebra.resta())"
   ]
  },
  {
   "cell_type": "code",
   "execution_count": 10,
   "metadata": {},
   "outputs": [
    {
     "name": "stdout",
     "output_type": "stream",
     "text": [
      "Error, introduzca caracteres numericos...\n",
      "0\n"
     ]
    }
   ],
   "source": [
    "algebra = Calculadora(15, 'a')\n",
    "print(algebra.division())"
   ]
  },
  {
   "cell_type": "code",
   "execution_count": 15,
   "metadata": {},
   "outputs": [
    {
     "name": "stdout",
     "output_type": "stream",
     "text": [
      "12\n"
     ]
    }
   ],
   "source": [
    "algebra.numero1=10\n",
    "algebra.numero2=2\n",
    "print(algebra.suma())"
   ]
  },
  {
   "cell_type": "code",
   "execution_count": null,
   "metadata": {},
   "outputs": [],
   "source": []
  }
 ],
 "metadata": {
  "kernelspec": {
   "display_name": "Python 3",
   "language": "python",
   "name": "python3"
  },
  "language_info": {
   "codemirror_mode": {
    "name": "ipython",
    "version": 3
   },
   "file_extension": ".py",
   "mimetype": "text/x-python",
   "name": "python",
   "nbconvert_exporter": "python",
   "pygments_lexer": "ipython3",
   "version": "3.7.1"
  }
 },
 "nbformat": 4,
 "nbformat_minor": 2
}
