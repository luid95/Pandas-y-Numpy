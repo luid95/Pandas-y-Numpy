{
 "cells": [
  {
   "cell_type": "code",
   "execution_count": 5,
   "metadata": {},
   "outputs": [],
   "source": [
    "import random as r\n",
    "\n",
    "def lanzamiento_dado(scadena):\n",
    "    dado=(r.choice(range(1,7)))\n",
    "    print(scadena, \" desde la funcion\")\n",
    "    return dado"
   ]
  },
  {
   "cell_type": "code",
   "execution_count": 6,
   "metadata": {},
   "outputs": [
    {
     "name": "stdout",
     "output_type": "stream",
     "text": [
      "Hola  desde la funcion\n",
      "Numero al lanzar un dado:  1\n"
     ]
    }
   ],
   "source": [
    "print(\"Numero al lanzar un dado: \", lanzamiento_dado(\"Hola\")) #Lanzamiento a la funcion"
   ]
  },
  {
   "cell_type": "code",
   "execution_count": 7,
   "metadata": {},
   "outputs": [],
   "source": [
    "# Funcion calculadora\n",
    "def calcular(operacion, valor1, valor2):\n",
    "    calculo =0\n",
    "    if(operacion == 'suma'):\n",
    "        calculo = valor1 + valor2\n",
    "       \n",
    "    elif(operacion == 'resta'):\n",
    "        calculo = valor1 - valor2\n",
    "    \n",
    "    elif(operacion == 'multiplicacion' or operacion == 'multiplicación' or operacion == 'multi'):\n",
    "        calculo = valor1*valor2\n",
    "    \n",
    "    elif((operacion == 'division' or operacion == 'división') and valor2 != 0):\n",
    "        calculo = valor1 / valor2\n",
    "    \n",
    "    return calculo"
   ]
  },
  {
   "cell_type": "code",
   "execution_count": 9,
   "metadata": {},
   "outputs": [
    {
     "name": "stdout",
     "output_type": "stream",
     "text": [
      "La resta de 12-3 es:  9\n",
      "La resta de 12+3 es:  15\n"
     ]
    }
   ],
   "source": [
    "#Llamado de la funcion calculadora\n",
    "print(\"La resta de 12-3 es: \", calcular('resta', 12, 3))\n",
    "print(\"La resta de 12+3 es: \", calcular('suma', 12, 3))"
   ]
  },
  {
   "cell_type": "code",
   "execution_count": 11,
   "metadata": {},
   "outputs": [
    {
     "name": "stdout",
     "output_type": "stream",
     "text": [
      "Desde main  Desde secundario\n",
      "Curso...\n"
     ]
    }
   ],
   "source": [
    "def secundario():\n",
    "    return \"Desde secundario\"\n",
    "\n",
    "def principal():\n",
    "    print(\"Desde principal\")\n",
    "\n",
    "    \n",
    "if __name__ == '__main__':\n",
    "    print(\"Desde main \", secundario())\n",
    "    print(\"Curso...\")"
   ]
  },
  {
   "cell_type": "code",
   "execution_count": 12,
   "metadata": {},
   "outputs": [
    {
     "name": "stdout",
     "output_type": "stream",
     "text": [
      "1\n",
      "10\n",
      "22\n",
      "13\n"
     ]
    }
   ],
   "source": [
    "globvar = 10\n",
    "\n",
    "def variable_local():\n",
    "    \n",
    "    globvar =1\n",
    "    print(globvar)\n",
    "\n",
    "def variable_global():\n",
    "    print(globvar)\n",
    "    \n",
    "def modificar_variable_global():\n",
    "    global globvar\n",
    "    globvar =  13\n",
    "    print(globvar)\n",
    "    \n",
    "variable_local()\n",
    "variable_global()\n",
    "globvar=22\n",
    "variable_global()\n",
    "modificar_variable_global()"
   ]
  },
  {
   "cell_type": "markdown",
   "metadata": {},
   "source": [
    "# Funcion Lambda\n",
    "Son funciones anonimas y pequeñas que usualmente no tienen más que una linea. Puede tener cualquier tipo de argumentos al igual que una funcion normal."
   ]
  },
  {
   "cell_type": "code",
   "execution_count": 13,
   "metadata": {},
   "outputs": [],
   "source": [
    "# Una funcion definida normalmente como triplicar \n",
    "def triplicar2(x):\n",
    "    return x*3\n",
    "\n",
    "#Como una funcion lambda en una linea\n",
    "triplicar = lambda x: x*3"
   ]
  },
  {
   "cell_type": "code",
   "execution_count": 14,
   "metadata": {},
   "outputs": [
    {
     "name": "stdout",
     "output_type": "stream",
     "text": [
      "9\n"
     ]
    }
   ],
   "source": [
    "#Llamada la funcion triplicar\n",
    "print(triplicar(3))"
   ]
  },
  {
   "cell_type": "code",
   "execution_count": 15,
   "metadata": {},
   "outputs": [
    {
     "name": "stdout",
     "output_type": "stream",
     "text": [
      "6\n"
     ]
    }
   ],
   "source": [
    "print(triplicar(2))"
   ]
  },
  {
   "cell_type": "code",
   "execution_count": 16,
   "metadata": {},
   "outputs": [],
   "source": [
    "#Una funcion definida normalmente como suma\n",
    "\"\"\"\n",
    "def suma(x,y):\n",
    "    return x+y\n",
    "\"\"\"\n",
    "\n",
    "#Como funcion lambda se simplifica en una sola linea\n",
    "suma = lambda x, y: x+y"
   ]
  },
  {
   "cell_type": "code",
   "execution_count": 17,
   "metadata": {},
   "outputs": [
    {
     "name": "stdout",
     "output_type": "stream",
     "text": [
      "15\n"
     ]
    }
   ],
   "source": [
    "print(suma(12, 3))"
   ]
  },
  {
   "cell_type": "code",
   "execution_count": 18,
   "metadata": {},
   "outputs": [],
   "source": [
    "#Una funcion definida normalmente como mayor\n",
    "\n",
    "\"\"\"\n",
    "def mayor(x,y):\n",
    "    if(x>y):\n",
    "        return x\n",
    "    else:\n",
    "        return y\n",
    "\"\"\"\n",
    "\n",
    "#Como una funcion lambda se simplifica en una sola linea\n",
    "mayor = lambda x,y: x if x>y else y"
   ]
  },
  {
   "cell_type": "code",
   "execution_count": 20,
   "metadata": {},
   "outputs": [
    {
     "name": "stdout",
     "output_type": "stream",
     "text": [
      "5\n"
     ]
    }
   ],
   "source": [
    "print(mayor(5,2))"
   ]
  },
  {
   "cell_type": "code",
   "execution_count": 21,
   "metadata": {},
   "outputs": [],
   "source": [
    "#mayor_de_tres= lambda x,y,z:max((x,y,z))\n",
    "mayor_de_tres = lambda x,y,z: x if x>y and x>z else (y if y>z else z)"
   ]
  },
  {
   "cell_type": "code",
   "execution_count": 25,
   "metadata": {},
   "outputs": [
    {
     "name": "stdout",
     "output_type": "stream",
     "text": [
      "3\n"
     ]
    }
   ],
   "source": [
    "print(mayor_de_tres(1,2,3))"
   ]
  },
  {
   "cell_type": "markdown",
   "metadata": {},
   "source": [
    "# Map"
   ]
  },
  {
   "cell_type": "code",
   "execution_count": 26,
   "metadata": {},
   "outputs": [
    {
     "name": "stdout",
     "output_type": "stream",
     "text": [
      "[1, 4, 9, 16, 25]\n"
     ]
    }
   ],
   "source": [
    "#Funcion lambda\n",
    "cuadrado = lambda x: x**2\n",
    "\n",
    "#funcion cuadrado\n",
    "def cuadrada(x):\n",
    "    return x*x\n",
    "\n",
    "#map\n",
    "items=[1,2,3,4,5]\n",
    "squared = list(map(cuadrado, items))\n",
    "print(list(squared))"
   ]
  },
  {
   "cell_type": "code",
   "execution_count": 27,
   "metadata": {},
   "outputs": [
    {
     "name": "stdout",
     "output_type": "stream",
     "text": [
      "[1, 4, 9, 16, 25]\n"
     ]
    }
   ],
   "source": [
    "items=[1,2,3,4,5]\n",
    "squared = list(map(lambda x: x**2, items)) #la funcion lambda puede estar dentro de map\n",
    "print(squared)"
   ]
  },
  {
   "cell_type": "code",
   "execution_count": 29,
   "metadata": {},
   "outputs": [
    {
     "name": "stdout",
     "output_type": "stream",
     "text": [
      "[0, 0, 0]\n",
      "[1, 1, 0]\n",
      "[4, 8, 4]\n",
      "[9, 27, 18]\n",
      "[16, 64, 48]\n",
      "[25, 125, 100]\n",
      "[36, 216, 180]\n",
      "[49, 343, 294]\n",
      "[64, 512, 448]\n",
      "[81, 729, 648]\n",
      "[100, 1000, 900]\n",
      "[121, 1331, 1210]\n"
     ]
    }
   ],
   "source": [
    "def cuadrado(x):\n",
    "    return x**2\n",
    "\n",
    "def cubo(x):\n",
    "    return x**3\n",
    "\n",
    "def diferencia(x):\n",
    "    return (x**3-x**2)\n",
    "\n",
    "funciones = [cuadrado, cubo, diferencia] # Cuando hay una lista de funciones\n",
    "for r in range(12):\n",
    "    value = map(lambda x : x(r), funciones)\n",
    "    print(list(value))"
   ]
  },
  {
   "cell_type": "code",
   "execution_count": 31,
   "metadata": {},
   "outputs": [
    {
     "data": {
      "text/plain": [
       "[5, 12, 21, 32]"
      ]
     },
     "execution_count": 31,
     "metadata": {},
     "output_type": "execute_result"
    }
   ],
   "source": [
    "#Pueden usarse varios parametros\n",
    "def mul(a,b):\n",
    "    return a*b\n",
    "list(map(mul, [1,2,3,4], [5,6,7,8]))"
   ]
  },
  {
   "cell_type": "markdown",
   "metadata": {},
   "source": [
    "# Filter"
   ]
  },
  {
   "cell_type": "code",
   "execution_count": 32,
   "metadata": {},
   "outputs": [
    {
     "name": "stdout",
     "output_type": "stream",
     "text": [
      "entrada:  [1, 2, 3, 4, 5, 6, 7, 8, 9, 10, 11, 12, 13, 14, 15, 16, 17, 18, 19]\n",
      "Salida:  [2, 4, 6, 8, 10, 12, 14, 16, 18]\n"
     ]
    }
   ],
   "source": [
    "# De la lista solo deja los pares\n",
    "lista_entrada = list(range(1,20))\n",
    "print('entrada: ', list(lista_entrada))\n",
    "lista_pares=filter(lambda x: x%2==0, lista_entrada)\n",
    "print('Salida: ',list(lista_pares))"
   ]
  },
  {
   "cell_type": "code",
   "execution_count": 33,
   "metadata": {},
   "outputs": [
    {
     "name": "stdout",
     "output_type": "stream",
     "text": [
      "[4, 10, 7, 100]\n"
     ]
    }
   ],
   "source": [
    "\"\"\"\n",
    "print(list([x for x in a if x in b]))\n",
    "\"\"\"\n",
    "#comparar 2 listas y hacer una tercera con los datos que haya en comun en las primeras 2\n",
    "a = [1,4,10,7,9,2,21,100]\n",
    "b = [4,3,10,6,7,8,100]\n",
    "print(list( filter(lambda x: x in a,b) ))"
   ]
  },
  {
   "cell_type": "markdown",
   "metadata": {},
   "source": [
    "# Reduce"
   ]
  },
  {
   "cell_type": "code",
   "execution_count": 35,
   "metadata": {},
   "outputs": [
    {
     "name": "stdout",
     "output_type": "stream",
     "text": [
      "15\n"
     ]
    }
   ],
   "source": [
    "#Sumar todos los valores de una lsita\n",
    "from functools import reduce as reducir\n",
    "resultado = reducir((lambda x,y: x+y),[1,2,3,4,5])\n",
    "print(resultado)"
   ]
  },
  {
   "cell_type": "code",
   "execution_count": 36,
   "metadata": {},
   "outputs": [
    {
     "data": {
      "text/plain": [
       "15"
      ]
     },
     "execution_count": 36,
     "metadata": {},
     "output_type": "execute_result"
    }
   ],
   "source": [
    "def sumar(x,y):\n",
    "    return x+y\n",
    "\n",
    "reducir(suma, range(1,6))"
   ]
  },
  {
   "cell_type": "markdown",
   "metadata": {},
   "source": [
    "# Clases\n",
    "Son modelos para cotruir objetos"
   ]
  },
  {
   "cell_type": "code",
   "execution_count": 37,
   "metadata": {},
   "outputs": [],
   "source": [
    "#Clase Persona\n",
    "class Persona:\n",
    "    #el constructor\n",
    "    def __init__(self, nombre, apellido, edad):\n",
    "        self.nombre = nombre\n",
    "        self.apellido = apellido\n",
    "        self.edad = edad\n",
    "        self.correo= (self.apellido.replace(' ','')+self.nombre.replace(' ','')+'@estecurso.com').lower()"
   ]
  },
  {
   "cell_type": "code",
   "execution_count": 41,
   "metadata": {},
   "outputs": [
    {
     "name": "stdout",
     "output_type": "stream",
     "text": [
      "moralesjuan@estecurso.com\n"
     ]
    }
   ],
   "source": [
    "juanito = Persona('Juan', 'Morales',22)\n",
    "print(juanito.correo)"
   ]
  },
  {
   "cell_type": "code",
   "execution_count": 42,
   "metadata": {},
   "outputs": [
    {
     "name": "stdout",
     "output_type": "stream",
     "text": [
      "<__main__.Persona object at 0x7f5460d37c50>\n"
     ]
    }
   ],
   "source": [
    "print(juanito) #No se ha definido la salida para esta linea de codigo"
   ]
  },
  {
   "cell_type": "code",
   "execution_count": 43,
   "metadata": {},
   "outputs": [],
   "source": [
    "class persona:\n",
    "    def __init__(self, nombre, apellido, edad):\n",
    "        self.nombre = nombre\n",
    "        self.apellido = apellido\n",
    "        self.edad = edad\n",
    "        self.correo= (self.apellido.replace(' ','')+self.nombre.replace(' ','')+'@estecurso.com').lower()\n",
    "        \n",
    "    def __str__(self):\n",
    "        return \"Nombre completo: \"+self.apellido+\", \"+self.nombre"
   ]
  },
  {
   "cell_type": "code",
   "execution_count": 44,
   "metadata": {},
   "outputs": [
    {
     "name": "stdout",
     "output_type": "stream",
     "text": [
      "peñaana@estecurso.com\n",
      "Nombre completo: Peña, Ana\n"
     ]
    }
   ],
   "source": [
    "person1 = persona(\"Ana\", \"Peña\", 62)\n",
    "print(person1.correo)\n",
    "print(person1)"
   ]
  },
  {
   "cell_type": "code",
   "execution_count": 45,
   "metadata": {},
   "outputs": [],
   "source": [
    "a = persona(\"luis\", \"Morales\", 23)\n",
    "b = persona(\"david\", \"Martinez\", 15)\n",
    "c = persona(\"jose\", \"Jimenez\", 34)\n",
    "d = persona(\"juan\", \"Juarez\", 26)\n",
    "\n",
    "lista_de_nombres = [a,b,c,d]"
   ]
  },
  {
   "cell_type": "code",
   "execution_count": 46,
   "metadata": {},
   "outputs": [
    {
     "name": "stdout",
     "output_type": "stream",
     "text": [
      "Jubilar a: Jimenez, jose\n",
      "Jubilar a: Juarez, juan\n"
     ]
    }
   ],
   "source": [
    "for personas in lista_de_nombres:\n",
    "    if(personas.edad > 25):\n",
    "        print('Jubilar a: {}, {}'.format(personas.apellido,personas.nombre))"
   ]
  },
  {
   "cell_type": "code",
   "execution_count": 65,
   "metadata": {},
   "outputs": [],
   "source": [
    "class Fecha:\n",
    "    def __init__(self, dia, mes, ano):\n",
    "        cadena = str(dia)+'-'+str(mes)+'-'+str(ano)\n",
    "        \n",
    "        if(Fecha.es_la_fecha_valida(cadena)):\n",
    "            self.dia = dia\n",
    "            self.mes = mes\n",
    "            self.ano = ano\n",
    "            print(\"La fecha es valida...\")\n",
    "        else:\n",
    "            self.dia = 1\n",
    "            self.mes = 1\n",
    "            self.ano = 1900\n",
    "            print(\"La fecha 01/01/1900 se establece por defecto\")\n",
    "    \n",
    "    \n",
    "    @staticmethod\n",
    "    def es_la_fecha_valida(fecha_como_cadena):\n",
    "        dia, mes, ano =map(int, fecha_como_cadena.split('-'))\n",
    "        return dia<=31 and mes<=12 and ano<=3000\n",
    "    \n",
    "    @classmethod\n",
    "    def desde_cadena(cls, date_as_string):\n",
    "        dia, mes, ano =map(int, date_as_string.split('-'))\n",
    "        date1 =cls(dia, mes, ano)\n",
    "        return date1\n",
    "    \n",
    "    def __str__(self):\n",
    "        return str(self.dia)+'-'+(self.mes)+'-'+(self.ano)"
   ]
  },
  {
   "cell_type": "code",
   "execution_count": 68,
   "metadata": {},
   "outputs": [
    {
     "ename": "AttributeError",
     "evalue": "type object 'Fecha' has no attribute 'es_ls_fecha_valida'",
     "output_type": "error",
     "traceback": [
      "\u001b[0;31m---------------------------------------------------------------------------\u001b[0m",
      "\u001b[0;31mAttributeError\u001b[0m                            Traceback (most recent call last)",
      "\u001b[0;32m<ipython-input-68-c02c00b22548>\u001b[0m in \u001b[0;36m<module>\u001b[0;34m\u001b[0m\n\u001b[0;32m----> 1\u001b[0;31m \u001b[0mes_una_fecha\u001b[0m \u001b[0;34m=\u001b[0m \u001b[0mFecha\u001b[0m\u001b[0;34m.\u001b[0m\u001b[0mes_ls_fecha_valida\u001b[0m\u001b[0;34m(\u001b[0m\u001b[0;34m'19-09-2022'\u001b[0m\u001b[0;34m)\u001b[0m\u001b[0;34m\u001b[0m\u001b[0;34m\u001b[0m\u001b[0m\n\u001b[0m\u001b[1;32m      2\u001b[0m \u001b[0;34m\u001b[0m\u001b[0m\n\u001b[1;32m      3\u001b[0m \u001b[0mprint\u001b[0m\u001b[0;34m(\u001b[0m\u001b[0mes_una_fecha\u001b[0m\u001b[0;34m)\u001b[0m\u001b[0;34m\u001b[0m\u001b[0;34m\u001b[0m\u001b[0m\n",
      "\u001b[0;31mAttributeError\u001b[0m: type object 'Fecha' has no attribute 'es_ls_fecha_valida'"
     ]
    }
   ],
   "source": [
    "es_una_fecha = Fecha.es_ls_fecha_valida('19-09-2022')\n",
    "\n",
    "print(es_una_fecha)"
   ]
  },
  {
   "cell_type": "code",
   "execution_count": 67,
   "metadata": {},
   "outputs": [
    {
     "name": "stdout",
     "output_type": "stream",
     "text": [
      "La fecha 01/01/1900 se establece por defecto\n"
     ]
    },
    {
     "ename": "TypeError",
     "evalue": "can only concatenate str (not \"int\") to str",
     "output_type": "error",
     "traceback": [
      "\u001b[0;31m---------------------------------------------------------------------------\u001b[0m",
      "\u001b[0;31mTypeError\u001b[0m                                 Traceback (most recent call last)",
      "\u001b[0;32m<ipython-input-67-427d990c0f55>\u001b[0m in \u001b[0;36m<module>\u001b[0;34m\u001b[0m\n\u001b[0;32m----> 1\u001b[0;31m \u001b[0mprint\u001b[0m\u001b[0;34m(\u001b[0m\u001b[0mFecha\u001b[0m\u001b[0;34m.\u001b[0m\u001b[0mdesde_cadena\u001b[0m\u001b[0;34m(\u001b[0m\u001b[0;34m'17-19-2022'\u001b[0m\u001b[0;34m)\u001b[0m\u001b[0;34m)\u001b[0m\u001b[0;34m\u001b[0m\u001b[0;34m\u001b[0m\u001b[0m\n\u001b[0m",
      "\u001b[0;32m<ipython-input-65-a03ce05bad47>\u001b[0m in \u001b[0;36m__str__\u001b[0;34m(self)\u001b[0m\n\u001b[1;32m     27\u001b[0m \u001b[0;34m\u001b[0m\u001b[0m\n\u001b[1;32m     28\u001b[0m     \u001b[0;32mdef\u001b[0m \u001b[0m__str__\u001b[0m\u001b[0;34m(\u001b[0m\u001b[0mself\u001b[0m\u001b[0;34m)\u001b[0m\u001b[0;34m:\u001b[0m\u001b[0;34m\u001b[0m\u001b[0;34m\u001b[0m\u001b[0m\n\u001b[0;32m---> 29\u001b[0;31m         \u001b[0;32mreturn\u001b[0m \u001b[0mstr\u001b[0m\u001b[0;34m(\u001b[0m\u001b[0mself\u001b[0m\u001b[0;34m.\u001b[0m\u001b[0mdia\u001b[0m\u001b[0;34m)\u001b[0m\u001b[0;34m+\u001b[0m\u001b[0;34m'-'\u001b[0m\u001b[0;34m+\u001b[0m\u001b[0;34m(\u001b[0m\u001b[0mself\u001b[0m\u001b[0;34m.\u001b[0m\u001b[0mmes\u001b[0m\u001b[0;34m)\u001b[0m\u001b[0;34m+\u001b[0m\u001b[0;34m'-'\u001b[0m\u001b[0;34m+\u001b[0m\u001b[0;34m(\u001b[0m\u001b[0mself\u001b[0m\u001b[0;34m.\u001b[0m\u001b[0mano\u001b[0m\u001b[0;34m)\u001b[0m\u001b[0;34m\u001b[0m\u001b[0;34m\u001b[0m\u001b[0m\n\u001b[0m",
      "\u001b[0;31mTypeError\u001b[0m: can only concatenate str (not \"int\") to str"
     ]
    }
   ],
   "source": [
    "print(Fecha.desde_cadena('17-19-2022'))"
   ]
  },
  {
   "cell_type": "code",
   "execution_count": null,
   "metadata": {},
   "outputs": [],
   "source": []
  },
  {
   "cell_type": "code",
   "execution_count": null,
   "metadata": {},
   "outputs": [],
   "source": []
  }
 ],
 "metadata": {
  "kernelspec": {
   "display_name": "Python 3",
   "language": "python",
   "name": "python3"
  },
  "language_info": {
   "codemirror_mode": {
    "name": "ipython",
    "version": 3
   },
   "file_extension": ".py",
   "mimetype": "text/x-python",
   "name": "python",
   "nbconvert_exporter": "python",
   "pygments_lexer": "ipython3",
   "version": "3.7.1"
  }
 },
 "nbformat": 4,
 "nbformat_minor": 2
}
