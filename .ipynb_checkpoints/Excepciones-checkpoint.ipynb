{
 "cells": [
  {
   "cell_type": "markdown",
   "metadata": {},
   "source": [
    "# Excepciones"
   ]
  },
  {
   "cell_type": "code",
   "execution_count": 1,
   "metadata": {},
   "outputs": [
    {
     "ename": "SyntaxError",
     "evalue": "invalid syntax (<ipython-input-1-11578b8e04df>, line 8)",
     "output_type": "error",
     "traceback": [
      "\u001b[0;36m  File \u001b[0;32m\"<ipython-input-1-11578b8e04df>\"\u001b[0;36m, line \u001b[0;32m8\u001b[0m\n\u001b[0;31m    del suma(self):\u001b[0m\n\u001b[0m                  ^\u001b[0m\n\u001b[0;31mSyntaxError\u001b[0m\u001b[0;31m:\u001b[0m invalid syntax\n"
     ]
    }
   ],
   "source": [
    "# Clase persona\n",
    "class Calculadora:\n",
    "    #el constructor\n",
    "    def __init__(self, numero1, numero2):\n",
    "        self.numero1 = numero1\n",
    "        self.numero2 = numero2\n",
    "    \n",
    "    def suma(self):\n",
    "        return self.numero1 + self.numero2\n",
    "    \n",
    "    def resta(self):\n",
    "        return self.numero1 - self.numero2\n",
    "    \n",
    "    def multiplicacion(self):\n",
    "        return self.numero1 * self.numero2\n",
    "    \n",
    "    def division(self):\n",
    "        try:\n",
    "            return self.numero1 / self.numero2\n",
    "        except ZeroDivisionError:\n",
    "            print(\"Error, denominador cero...\")\n",
    "            return 0\n",
    "        except typeError:\n",
    "            print(\"Error, introduzca caracteres numericos...\")\n",
    "            return 0"
   ]
  },
  {
   "cell_type": "code",
   "execution_count": null,
   "metadata": {},
   "outputs": [],
   "source": []
  }
 ],
 "metadata": {
  "kernelspec": {
   "display_name": "Python 3",
   "language": "python",
   "name": "python3"
  },
  "language_info": {
   "codemirror_mode": {
    "name": "ipython",
    "version": 3
   },
   "file_extension": ".py",
   "mimetype": "text/x-python",
   "name": "python",
   "nbconvert_exporter": "python",
   "pygments_lexer": "ipython3",
   "version": "3.7.1"
  }
 },
 "nbformat": 4,
 "nbformat_minor": 2
}
