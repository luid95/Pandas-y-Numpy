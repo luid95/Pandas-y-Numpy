{
 "cells": [
  {
   "cell_type": "markdown",
   "metadata": {},
   "source": [
    "*Diccionarios*"
   ]
  },
  {
   "cell_type": "markdown",
   "metadata": {},
   "source": [
    "# Los Diccionarios tambien llamados matrices asociativas, ya que son colecciones que contiene clave valor.#\n",
    "**La diferencia que existe con los Diccionarios con las listas o las tuplas es que los valores almacenados en el\n",
    "  en el diccionario no se le accede a traves de sus indice sino a traves de su clave utilizando el operador []\n",
    "  asi que de esta forma nuestros diccionarios no tienen un orden prestablecido.**"
   ]
  },
  {
   "cell_type": "code",
   "execution_count": 2,
   "metadata": {},
   "outputs": [
    {
     "name": "stdout",
     "output_type": "stream",
     "text": [
      "{'arroz': 'sustantivo', 'cantar': 'verbo', 'el': 'articulo', 'aprender': 'verbo'}\n"
     ]
    }
   ],
   "source": [
    "# Ejemplo de diccionario\n",
    "diccionario = {'arroz': 'sustantivo', 'cantar': 'verbo', 'el': 'articulo', 'aprender': 'verbo'}\n",
    "\n",
    "print(diccionario)"
   ]
  },
  {
   "cell_type": "code",
   "execution_count": 12,
   "metadata": {},
   "outputs": [
    {
     "name": "stdout",
     "output_type": "stream",
     "text": [
      "Claves:  dict_keys(['arroz', 'cantar', 'el', 'aprender'])\n",
      "Valores:  dict_values(['sustantivo', 'verbo', 'articulo', 'verbo'])\n"
     ]
    }
   ],
   "source": [
    "# Ver las claves del diccionarios\n",
    "print(\"Claves: \", diccionario.keys())\n",
    "\n",
    "# Ver los valoes del diccionario\n",
    "print(\"Valores: \", diccionario.values())"
   ]
  },
  {
   "cell_type": "markdown",
   "metadata": {},
   "source": [
    "*Vamos a explicar los diccionarios con ejamplos*"
   ]
  },
  {
   "cell_type": "code",
   "execution_count": 7,
   "metadata": {},
   "outputs": [
    {
     "name": "stdout",
     "output_type": "stream",
     "text": [
      "Inventario inicial {'arroz': 10, 'pastas': 0, 'harina': 0, 'bebidas': 11, 'gelletas': 0, 'especies': 0, 'carne': 15}\n"
     ]
    }
   ],
   "source": [
    "# Supongamos que vamos a vender alimento y necesitamos inventariar\n",
    "# Tiene el nombre del rubro y la cantidad\n",
    "\n",
    "alimentos={'arroz': 10, 'pastas': 0, 'harina': 0, 'bebidas': 11, 'gelletas': 0, 'especies': 0, 'carne': 15}\n",
    "print(\"Inventario inicial\", alimentos)"
   ]
  },
  {
   "cell_type": "code",
   "execution_count": 8,
   "metadata": {},
   "outputs": [
    {
     "name": "stdout",
     "output_type": "stream",
     "text": [
      "La cantidad de arroz es:  10\n"
     ]
    }
   ],
   "source": [
    "# Para acceder a la cantidad de cada rubro basta con solo colocar la clave\n",
    "print(\"La cantidad de arroz es: \", alimentos['arroz'])"
   ]
  },
  {
   "cell_type": "code",
   "execution_count": 9,
   "metadata": {},
   "outputs": [
    {
     "name": "stdout",
     "output_type": "stream",
     "text": [
      "{'arroz': 10, 'pastas': 0, 'harina': 0, 'bebidas': 11, 'gelletas': 0, 'carne': 15}\n"
     ]
    }
   ],
   "source": [
    "# Para sacar un rubro, que no se vaya a vender, del inventario se escribe lo siguiente\n",
    "del alimentos['especies']\n",
    "print(alimentos)"
   ]
  },
  {
   "cell_type": "code",
   "execution_count": 10,
   "metadata": {},
   "outputs": [
    {
     "name": "stdout",
     "output_type": "stream",
     "text": [
      "{'arroz': 10, 'pastas': 0, 'harina': 200, 'bebidas': 11, 'gelletas': 0, 'carne': 15}\n"
     ]
    }
   ],
   "source": [
    "# Si llega un cargamento de harina y necesita incorporarse al inventario\n",
    "alimentos['harina']+= 200\n",
    "print(alimentos)"
   ]
  },
  {
   "cell_type": "code",
   "execution_count": 13,
   "metadata": {},
   "outputs": [
    {
     "name": "stdout",
     "output_type": "stream",
     "text": [
      "True\n"
     ]
    }
   ],
   "source": [
    "# Si los elementos del inventario son muchos y necesitamos saber si está un rubro para no crearlo 2 veces\n",
    "print('harina' in alimentos)"
   ]
  },
  {
   "cell_type": "code",
   "execution_count": 15,
   "metadata": {},
   "outputs": [
    {
     "name": "stdout",
     "output_type": "stream",
     "text": [
      "{'arroz': 10, 'pastas': 0, 'harina': 200, 'bebidas': 11, 'gelletas': 0, 'carne': 15, 'huebvos': 14, 'huevos': 14}\n"
     ]
    }
   ],
   "source": [
    "# Agregar otro rubro\n",
    "alimentos['huevos'] = 14\n",
    "print(alimentos)"
   ]
  },
  {
   "cell_type": "markdown",
   "metadata": {},
   "source": [
    "# VARIABLES GLOBALES Y LOCALES #"
   ]
  },
  {
   "cell_type": "code",
   "execution_count": 16,
   "metadata": {},
   "outputs": [
    {
     "name": "stdout",
     "output_type": "stream",
     "text": [
      "1\n"
     ]
    }
   ],
   "source": [
    "variable = 10\n",
    "\n",
    "def variable_local():\n",
    "    variable = 1\n",
    "    print(variable)\n",
    "    \n",
    "def variable_global():\n",
    "    print(variable)\n",
    "\n",
    "def modificar_variable_global():\n",
    "    global variable\n",
    "    variable = 33\n",
    "    print(variable)\n",
    "    \n",
    "variable_local() #imprime 1"
   ]
  },
  {
   "cell_type": "code",
   "execution_count": 17,
   "metadata": {},
   "outputs": [
    {
     "name": "stdout",
     "output_type": "stream",
     "text": [
      "10\n"
     ]
    }
   ],
   "source": [
    "variable_global() # imprime 10"
   ]
  },
  {
   "cell_type": "code",
   "execution_count": 18,
   "metadata": {},
   "outputs": [
    {
     "name": "stdout",
     "output_type": "stream",
     "text": [
      "22\n"
     ]
    }
   ],
   "source": [
    "variable = 22\n",
    "variable_global()"
   ]
  },
  {
   "cell_type": "code",
   "execution_count": 19,
   "metadata": {},
   "outputs": [
    {
     "name": "stdout",
     "output_type": "stream",
     "text": [
      "33\n"
     ]
    }
   ],
   "source": [
    "modificar_variable_global()"
   ]
  },
  {
   "cell_type": "code",
   "execution_count": 20,
   "metadata": {},
   "outputs": [
    {
     "name": "stdout",
     "output_type": "stream",
     "text": [
      "33\n"
     ]
    }
   ],
   "source": [
    "variable_global()"
   ]
  },
  {
   "cell_type": "code",
   "execution_count": null,
   "metadata": {},
   "outputs": [],
   "source": []
  }
 ],
 "metadata": {
  "kernelspec": {
   "display_name": "Python 3",
   "language": "python",
   "name": "python3"
  },
  "language_info": {
   "codemirror_mode": {
    "name": "ipython",
    "version": 3
   },
   "file_extension": ".py",
   "mimetype": "text/x-python",
   "name": "python",
   "nbconvert_exporter": "python",
   "pygments_lexer": "ipython3",
   "version": "3.7.1"
  }
 },
 "nbformat": 4,
 "nbformat_minor": 2
}
